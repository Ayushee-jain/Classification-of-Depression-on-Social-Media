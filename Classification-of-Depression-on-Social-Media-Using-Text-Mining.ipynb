{
 "cells": [
  {
   "cell_type": "code",
   "execution_count": 1,
   "metadata": {},
   "outputs": [],
   "source": [
    "import pandas as pd\n",
    "import numpy as np\n",
    "import matplotlib.pyplot as plt\n",
    "import seaborn as sns\n",
    "import json\n",
    "import csv"
   ]
  },
  {
   "cell_type": "code",
   "execution_count": 2,
   "metadata": {},
   "outputs": [],
   "source": [
    "tweet_data=[]\n",
    "a=[]\n",
    "b=[]\n",
    "for lines in open(r'C:\\Users\\LENOVO\\Documents\\Github\\Classification-of-Depression-on-Social-Media-Using-Text-Mining\\data\\tweetdata.txt','r'):\n",
    "    try:\n",
    "        tweet=json.loads(lines)\n",
    "        a.append(tweet['id_str'])\n",
    "        b.append(tweet['text'])\n",
    "    except:\n",
    "        continue"
   ]
  },
  {
   "cell_type": "code",
   "execution_count": 3,
   "metadata": {},
   "outputs": [],
   "source": [
    "data=pd.DataFrame({'Id':a,'Text':b})"
   ]
  },
  {
   "cell_type": "code",
   "execution_count": 4,
   "metadata": {},
   "outputs": [
    {
     "data": {
      "text/html": [
       "<div>\n",
       "<style scoped>\n",
       "    .dataframe tbody tr th:only-of-type {\n",
       "        vertical-align: middle;\n",
       "    }\n",
       "\n",
       "    .dataframe tbody tr th {\n",
       "        vertical-align: top;\n",
       "    }\n",
       "\n",
       "    .dataframe thead th {\n",
       "        text-align: right;\n",
       "    }\n",
       "</style>\n",
       "<table border=\"1\" class=\"dataframe\">\n",
       "  <thead>\n",
       "    <tr style=\"text-align: right;\">\n",
       "      <th></th>\n",
       "      <th>Id</th>\n",
       "      <th>Text</th>\n",
       "    </tr>\n",
       "  </thead>\n",
       "  <tbody>\n",
       "    <tr>\n",
       "      <td>0</td>\n",
       "      <td>870430762255953920</td>\n",
       "      <td>Hey, look - I found my social anxiety again. W...</td>\n",
       "    </tr>\n",
       "    <tr>\n",
       "      <td>1</td>\n",
       "      <td>870430770141253632</td>\n",
       "      <td>RT @shannonpurser: Depression sucks. I'm in th...</td>\n",
       "    </tr>\n",
       "    <tr>\n",
       "      <td>2</td>\n",
       "      <td>870430771592413187</td>\n",
       "      <td>RT @HRoyalThighness: Lol my social anxiety goe...</td>\n",
       "    </tr>\n",
       "    <tr>\n",
       "      <td>3</td>\n",
       "      <td>870430772800479233</td>\n",
       "      <td>How to Deal with Stress, Anxiety and Bipolar D...</td>\n",
       "    </tr>\n",
       "    <tr>\n",
       "      <td>4</td>\n",
       "      <td>870430776432644096</td>\n",
       "      <td>RT @COCONUTOILBAE: when you want to be friends...</td>\n",
       "    </tr>\n",
       "  </tbody>\n",
       "</table>\n",
       "</div>"
      ],
      "text/plain": [
       "                   Id                                               Text\n",
       "0  870430762255953920  Hey, look - I found my social anxiety again. W...\n",
       "1  870430770141253632  RT @shannonpurser: Depression sucks. I'm in th...\n",
       "2  870430771592413187  RT @HRoyalThighness: Lol my social anxiety goe...\n",
       "3  870430772800479233  How to Deal with Stress, Anxiety and Bipolar D...\n",
       "4  870430776432644096  RT @COCONUTOILBAE: when you want to be friends..."
      ]
     },
     "execution_count": 4,
     "metadata": {},
     "output_type": "execute_result"
    }
   ],
   "source": [
    "data.head()"
   ]
  },
  {
   "cell_type": "code",
   "execution_count": 5,
   "metadata": {},
   "outputs": [],
   "source": [
    "import re\n",
    "import string\n",
    "for i in range(len(data)):\n",
    "    re_emoji=re.compile('[\\U00010000-\\U0010ffff]', flags=re.UNICODE)\n",
    "    data['Text'][i]=re.sub(re_emoji,'',data['Text'][i])\n",
    "    data['Text'][i]=data['Text'][i].translate(str.maketrans('','',string.punctuation))\n",
    "    data['Text'][i]=data['Text'][i].lower()"
   ]
  },
  {
   "cell_type": "code",
   "execution_count": 6,
   "metadata": {},
   "outputs": [
    {
     "data": {
      "text/html": [
       "<div>\n",
       "<style scoped>\n",
       "    .dataframe tbody tr th:only-of-type {\n",
       "        vertical-align: middle;\n",
       "    }\n",
       "\n",
       "    .dataframe tbody tr th {\n",
       "        vertical-align: top;\n",
       "    }\n",
       "\n",
       "    .dataframe thead th {\n",
       "        text-align: right;\n",
       "    }\n",
       "</style>\n",
       "<table border=\"1\" class=\"dataframe\">\n",
       "  <thead>\n",
       "    <tr style=\"text-align: right;\">\n",
       "      <th></th>\n",
       "      <th>Id</th>\n",
       "      <th>Text</th>\n",
       "    </tr>\n",
       "  </thead>\n",
       "  <tbody>\n",
       "    <tr>\n",
       "      <td>0</td>\n",
       "      <td>870430762255953920</td>\n",
       "      <td>hey look  i found my social anxiety again was ...</td>\n",
       "    </tr>\n",
       "    <tr>\n",
       "      <td>1</td>\n",
       "      <td>870430770141253632</td>\n",
       "      <td>rt shannonpurser depression sucks im in the mi...</td>\n",
       "    </tr>\n",
       "    <tr>\n",
       "      <td>2</td>\n",
       "      <td>870430771592413187</td>\n",
       "      <td>rt hroyalthighness lol my social anxiety goes ...</td>\n",
       "    </tr>\n",
       "    <tr>\n",
       "      <td>3</td>\n",
       "      <td>870430772800479233</td>\n",
       "      <td>how to deal with stress anxiety and bipolar di...</td>\n",
       "    </tr>\n",
       "    <tr>\n",
       "      <td>4</td>\n",
       "      <td>870430776432644096</td>\n",
       "      <td>rt coconutoilbae when you want to be friends w...</td>\n",
       "    </tr>\n",
       "  </tbody>\n",
       "</table>\n",
       "</div>"
      ],
      "text/plain": [
       "                   Id                                               Text\n",
       "0  870430762255953920  hey look  i found my social anxiety again was ...\n",
       "1  870430770141253632  rt shannonpurser depression sucks im in the mi...\n",
       "2  870430771592413187  rt hroyalthighness lol my social anxiety goes ...\n",
       "3  870430772800479233  how to deal with stress anxiety and bipolar di...\n",
       "4  870430776432644096  rt coconutoilbae when you want to be friends w..."
      ]
     },
     "execution_count": 6,
     "metadata": {},
     "output_type": "execute_result"
    }
   ],
   "source": [
    "data.head()"
   ]
  },
  {
   "cell_type": "code",
   "execution_count": 7,
   "metadata": {},
   "outputs": [],
   "source": [
    "dict_file=pd.read_csv(r'C:\\Users\\LENOVO\\Documents\\Github\\Classification-of-Depression-on-Social-Media-Using-Text-Mining\\data\\dictionary.tsv',delimiter='\\t',header=None)"
   ]
  },
  {
   "cell_type": "code",
   "execution_count": 8,
   "metadata": {},
   "outputs": [
    {
     "data": {
      "text/html": [
       "<div>\n",
       "<style scoped>\n",
       "    .dataframe tbody tr th:only-of-type {\n",
       "        vertical-align: middle;\n",
       "    }\n",
       "\n",
       "    .dataframe tbody tr th {\n",
       "        vertical-align: top;\n",
       "    }\n",
       "\n",
       "    .dataframe thead th {\n",
       "        text-align: right;\n",
       "    }\n",
       "</style>\n",
       "<table border=\"1\" class=\"dataframe\">\n",
       "  <thead>\n",
       "    <tr style=\"text-align: right;\">\n",
       "      <th></th>\n",
       "      <th>0</th>\n",
       "      <th>1</th>\n",
       "      <th>2</th>\n",
       "      <th>3</th>\n",
       "      <th>4</th>\n",
       "      <th>5</th>\n",
       "    </tr>\n",
       "  </thead>\n",
       "  <tbody>\n",
       "    <tr>\n",
       "      <td>0</td>\n",
       "      <td>weaksubj</td>\n",
       "      <td>1</td>\n",
       "      <td>abandoned</td>\n",
       "      <td>adj</td>\n",
       "      <td>n</td>\n",
       "      <td>negative</td>\n",
       "    </tr>\n",
       "    <tr>\n",
       "      <td>1</td>\n",
       "      <td>weaksubj</td>\n",
       "      <td>1</td>\n",
       "      <td>abandonment</td>\n",
       "      <td>noun</td>\n",
       "      <td>n</td>\n",
       "      <td>negative</td>\n",
       "    </tr>\n",
       "    <tr>\n",
       "      <td>2</td>\n",
       "      <td>weaksubj</td>\n",
       "      <td>1</td>\n",
       "      <td>abandon</td>\n",
       "      <td>verb</td>\n",
       "      <td>y</td>\n",
       "      <td>negative</td>\n",
       "    </tr>\n",
       "    <tr>\n",
       "      <td>3</td>\n",
       "      <td>strongsubj</td>\n",
       "      <td>1</td>\n",
       "      <td>abase</td>\n",
       "      <td>verb</td>\n",
       "      <td>y</td>\n",
       "      <td>negative</td>\n",
       "    </tr>\n",
       "    <tr>\n",
       "      <td>4</td>\n",
       "      <td>strongsubj</td>\n",
       "      <td>1</td>\n",
       "      <td>abasement</td>\n",
       "      <td>anypos</td>\n",
       "      <td>y</td>\n",
       "      <td>negative</td>\n",
       "    </tr>\n",
       "  </tbody>\n",
       "</table>\n",
       "</div>"
      ],
      "text/plain": [
       "            0  1            2       3  4         5\n",
       "0    weaksubj  1    abandoned     adj  n  negative\n",
       "1    weaksubj  1  abandonment    noun  n  negative\n",
       "2    weaksubj  1      abandon    verb  y  negative\n",
       "3  strongsubj  1        abase    verb  y  negative\n",
       "4  strongsubj  1    abasement  anypos  y  negative"
      ]
     },
     "execution_count": 8,
     "metadata": {},
     "output_type": "execute_result"
    }
   ],
   "source": [
    "dict_file.head()"
   ]
  },
  {
   "cell_type": "code",
   "execution_count": 9,
   "metadata": {},
   "outputs": [],
   "source": [
    "from nltk.tokenize import word_tokenize\n",
    "id=[]\n",
    "t=[]\n",
    "c=1\n",
    "print(len(data['Text']))\n",
    "for i in range(len(data['Text'])):\n",
    "    text=word_tokenize(data['Text'][i])\n",
    "    sum=0\n",
    "    words=0\n",
    "    for j in range(len(text)):\n",
    "        for k in range(len(dict_file)):\n",
    "            if text[j]==dict_file[2][k]:\n",
    "                if dict_file[5][k]=='positive':\n",
    "                    sum+=1\n",
    "                    words+=1\n",
    "                elif dict_file[5][k]=='negative':\n",
    "                    sum-=1;\n",
    "                    words+=1\n",
    "                else:\n",
    "                    words+=1\n",
    "    print(\"Yes\", c)\n",
    "    c+=1\n",
    "    if words!=0:\n",
    "        new=sum/words\n",
    "        if new>=0.2:\n",
    "            new=1\n",
    "        elif (new<0.2) and (new>-0.5):\n",
    "            new=0\n",
    "        elif new<=-0.5:\n",
    "            new=-1\n",
    "        else:\n",
    "            print('****')\n",
    "    id.append(data['Id'][i])\n",
    "    t.append(new)\n",
    "d=pd.DataFrame({'id':id,'sentiment':t})\n",
    "d.to_excel(r'output.xlsx',index=False)\n"
   ]
  },
  {
   "cell_type": "code",
   "execution_count": 10,
   "metadata": {},
   "outputs": [],
   "source": [
    "new_data=d.copy()"
   ]
  },
  {
   "cell_type": "code",
   "execution_count": 11,
   "metadata": {},
   "outputs": [
    {
     "data": {
      "text/html": [
       "<div>\n",
       "<style scoped>\n",
       "    .dataframe tbody tr th:only-of-type {\n",
       "        vertical-align: middle;\n",
       "    }\n",
       "\n",
       "    .dataframe tbody tr th {\n",
       "        vertical-align: top;\n",
       "    }\n",
       "\n",
       "    .dataframe thead th {\n",
       "        text-align: right;\n",
       "    }\n",
       "</style>\n",
       "<table border=\"1\" class=\"dataframe\">\n",
       "  <thead>\n",
       "    <tr style=\"text-align: right;\">\n",
       "      <th></th>\n",
       "      <th>id</th>\n",
       "      <th>sentiment</th>\n",
       "    </tr>\n",
       "  </thead>\n",
       "  <tbody>\n",
       "    <tr>\n",
       "      <td>0</td>\n",
       "      <td>870430762255953920</td>\n",
       "      <td>-1</td>\n",
       "    </tr>\n",
       "    <tr>\n",
       "      <td>1</td>\n",
       "      <td>870430770141253632</td>\n",
       "      <td>-1</td>\n",
       "    </tr>\n",
       "    <tr>\n",
       "      <td>2</td>\n",
       "      <td>870430771592413187</td>\n",
       "      <td>-1</td>\n",
       "    </tr>\n",
       "    <tr>\n",
       "      <td>3</td>\n",
       "      <td>870430772800479233</td>\n",
       "      <td>-1</td>\n",
       "    </tr>\n",
       "    <tr>\n",
       "      <td>4</td>\n",
       "      <td>870430776432644096</td>\n",
       "      <td>0</td>\n",
       "    </tr>\n",
       "  </tbody>\n",
       "</table>\n",
       "</div>"
      ],
      "text/plain": [
       "                   id  sentiment\n",
       "0  870430762255953920         -1\n",
       "1  870430770141253632         -1\n",
       "2  870430771592413187         -1\n",
       "3  870430772800479233         -1\n",
       "4  870430776432644096          0"
      ]
     },
     "execution_count": 11,
     "metadata": {},
     "output_type": "execute_result"
    }
   ],
   "source": [
    "new_data.head()"
   ]
  },
  {
   "cell_type": "code",
   "execution_count": 12,
   "metadata": {},
   "outputs": [
    {
     "data": {
      "text/plain": [
       "(9331, 2)"
      ]
     },
     "execution_count": 12,
     "metadata": {},
     "output_type": "execute_result"
    }
   ],
   "source": [
    "new_data.shape"
   ]
  },
  {
   "cell_type": "code",
   "execution_count": 13,
   "metadata": {},
   "outputs": [],
   "source": [
    "x=data['Text']\n",
    "y=new_data['sentiment']"
   ]
  },
  {
   "cell_type": "code",
   "execution_count": 14,
   "metadata": {},
   "outputs": [
    {
     "name": "stdout",
     "output_type": "stream",
     "text": [
      "0       hey look  i found my social anxiety again was ...\n",
      "1       rt shannonpurser depression sucks im in the mi...\n",
      "2       rt hroyalthighness lol my social anxiety goes ...\n",
      "3       how to deal with stress anxiety and bipolar di...\n",
      "4       rt coconutoilbae when you want to be friends w...\n",
      "                              ...                        \n",
      "9326    rt daddybuell im still sad at the fact we’re n...\n",
      "9327    cuddling in bed till you fall asleep was huge ...\n",
      "9328    ka sad sang barfield on the top hahahahaha joo...\n",
      "9329    rt letsboldlygo date someone who can fuck you ...\n",
      "9330    rt athazgor have you ever been so sad that it ...\n",
      "Name: Text, Length: 9331, dtype: object\n"
     ]
    }
   ],
   "source": [
    "print(x)"
   ]
  },
  {
   "cell_type": "code",
   "execution_count": 15,
   "metadata": {},
   "outputs": [],
   "source": [
    "from sklearn.feature_extraction.text import CountVectorizer\n",
    "vectorizer=CountVectorizer(stop_words='english')\n",
    "X=vectorizer.fit_transform(x)"
   ]
  },
  {
   "cell_type": "code",
   "execution_count": 16,
   "metadata": {},
   "outputs": [],
   "source": [
    "f=X.toarray()"
   ]
  },
  {
   "cell_type": "code",
   "execution_count": 17,
   "metadata": {},
   "outputs": [],
   "source": [
    "from sklearn.model_selection import train_test_split\n",
    "x_train,x_test,y_train,y_test=train_test_split(f,y,test_size=0.2,random_state=0)"
   ]
  },
  {
   "cell_type": "code",
   "execution_count": 18,
   "metadata": {},
   "outputs": [
    {
     "name": "stdout",
     "output_type": "stream",
     "text": [
      "[ 0  0  1 ...  0 -1  0]\n",
      "0.7032672737011249\n",
      "[[489 106  35]\n",
      " [147 507 102]\n",
      " [ 68  96 317]]\n"
     ]
    }
   ],
   "source": [
    "from sklearn.naive_bayes import MultinomialNB\n",
    "nb=MultinomialNB()\n",
    "nb.fit(x_train,[int(r) for r in y_train])\n",
    "y_pred=nb.predict(x_test)\n",
    "print(y_pred)\n",
    "from sklearn.metrics import accuracy_score,confusion_matrix\n",
    "print(accuracy_score(y_pred,y_test))\n",
    "print(confusion_matrix(y_pred,y_test))"
   ]
  },
  {
   "cell_type": "code",
   "execution_count": 19,
   "metadata": {},
   "outputs": [
    {
     "name": "stdout",
     "output_type": "stream",
     "text": [
      "[ 1  1  1 ...  0 -1  0]\n",
      "0.7225495447241564\n",
      "[[571 167  51]\n",
      " [106 481 106]\n",
      " [ 27  61 297]]\n"
     ]
    }
   ],
   "source": [
    "from sklearn.tree import DecisionTreeClassifier\n",
    "dtree=DecisionTreeClassifier()\n",
    "dtree.fit(x_train,[int(r) for r in y_train])\n",
    "y_pred=dtree.predict(x_test)\n",
    "print(y_pred)\n",
    "from sklearn.metrics import accuracy_score,confusion_matrix\n",
    "print(accuracy_score(y_pred,y_test))\n",
    "print(confusion_matrix(y_pred,y_test))"
   ]
  },
  {
   "cell_type": "code",
   "execution_count": 20,
   "metadata": {},
   "outputs": [
    {
     "name": "stdout",
     "output_type": "stream",
     "text": [
      "[-1 -1 -1 ... -1 -1 -1]\n",
      "0.4306373861810391\n",
      "[[704 609 440]\n",
      " [  0 100  14]\n",
      " [  0   0   0]]\n"
     ]
    }
   ],
   "source": [
    "from sklearn.ensemble import RandomForestClassifier\n",
    "rf=RandomForestClassifier(max_depth=2,random_state=0)\n",
    "rf=rf.fit(x_train, [int(i) for i in y_train])\n",
    "y_pred=rf.predict(x_test)\n",
    "print(y_pred)\n",
    "print(accuracy_score(y_pred,y_test))\n",
    "print(confusion_matrix(y_pred,y_test))"
   ]
  },
  {
   "cell_type": "code",
   "execution_count": null,
   "metadata": {},
   "outputs": [],
   "source": []
  }
 ],
 "metadata": {
  "kernelspec": {
   "display_name": "Python 3",
   "language": "python",
   "name": "python3"
  },
  "language_info": {
   "codemirror_mode": {
    "name": "ipython",
    "version": 3
   },
   "file_extension": ".py",
   "mimetype": "text/x-python",
   "name": "python",
   "nbconvert_exporter": "python",
   "pygments_lexer": "ipython3",
   "version": "3.7.4"
  }
 },
 "nbformat": 4,
 "nbformat_minor": 2
}
